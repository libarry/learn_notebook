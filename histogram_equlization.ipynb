{
 "cells": [
  {
   "cell_type": "code",
   "execution_count": 1,
   "metadata": {},
   "outputs": [],
   "source": [
    "from matplotlib import pyplot as plt\n",
    "import cv2\n",
    "import numpy as np"
   ]
  },
  {
   "cell_type": "code",
   "execution_count": 2,
   "metadata": {},
   "outputs": [],
   "source": [
    "image=cv2.imread('dark.jpg')"
   ]
  },
  {
   "cell_type": "code",
   "execution_count": 3,
   "metadata": {},
   "outputs": [],
   "source": [
    "image=cv2.cvtColor(image,cv2.COLOR_BGR2GRAY)"
   ]
  },
  {
   "cell_type": "code",
   "execution_count": 4,
   "metadata": {},
   "outputs": [],
   "source": [
    "#先求一下图像的直方图\n",
    "channel = [0]\n",
    "mask = None\n",
    "histSize = [256]\n",
    "histRange = [0,256]\n",
    "hist1 = cv2.calcHist([image],channel,mask,histSize,histRange)\n",
    "M = image.shape[0]\n",
    "N = image.shape[1]"
   ]
  },
  {
   "cell_type": "code",
   "execution_count": 5,
   "metadata": {},
   "outputs": [],
   "source": [
    "def transformConstruction(image):#变换函数的构造器\n",
    "    M = image.shape[0]\n",
    "    N = image.shape[1]\n",
    "    L = 256\n",
    "    channel=[0]\n",
    "    mask=None\n",
    "    histSize=[L]\n",
    "    histRange=[0,L]#注意这里的右边界是开，左边界是闭（python一贯特性）\n",
    "    hist = cv2.calcHist([image],channel,mask,histSize,histRange)\n",
    "    tran = []\n",
    "    for i in range(256):\n",
    "        tran = tran + [int((L-1)*np.sum(hist[0:i+1])/(M*N)+0.5)]\n",
    "    tran = np.array(tran)\n",
    "    def transform(x):\n",
    "        y = int(x+0.5)#四舍五入\n",
    "        try:\n",
    "            return np.uint8(tran[y])#opencv只处理uint8的数据，所以必须转换。默认的是uint64,会造成严重错误\n",
    "        except:print(y)\n",
    "    return transform#构造了一个闭包，返回一个函数"
   ]
  },
  {
   "cell_type": "code",
   "execution_count": 6,
   "metadata": {},
   "outputs": [],
   "source": [
    "#生成一个变换函数transform\n",
    "transform = transformConstruction(image)"
   ]
  },
  {
   "cell_type": "code",
   "execution_count": 7,
   "metadata": {},
   "outputs": [],
   "source": [
    "#使用转换函数对图像元素逐个转换\n",
    "term = image.reshape((M*N,1))\n",
    "result = np.array(list(map(transform,term)))\n",
    "imageResult = result.reshape(M,N)"
   ]
  },
  {
   "cell_type": "code",
   "execution_count": 8,
   "metadata": {},
   "outputs": [],
   "source": [
    "#统计一下均衡后图像的直方图\n",
    "channel=[0]\n",
    "mask=None\n",
    "histSize=[256]\n",
    "histRange=[2,256]\n",
    "hist2 = cv2.calcHist([imageResult],channel,mask,histSize,histRange)"
   ]
  },
  {
   "cell_type": "code",
   "execution_count": 9,
   "metadata": {
    "scrolled": true
   },
   "outputs": [
    {
     "data": {
      "image/png": "[encoded data removed]",
      "text/plain": [
       "<Figure size 432x288 with 4 Axes>"
      ]
     },
     "metadata": {},
     "output_type": "display_data"
    }
   ],
   "source": [
    "plt.subplot(411)\n",
    "plt.imshow(imageResult,cmap='gray')\n",
    "plt.subplot(412)\n",
    "plt.imshow(image,cmap='gray')\n",
    "plt.subplot(413)\n",
    "hist1 = hist1.reshape(len(hist1))\n",
    "plt.bar(range(len(hist1)), hist1)\n",
    "plt.subplot(414)\n",
    "hist2 = hist2.reshape(len(hist2))\n",
    "plt.bar(range(len(hist2)), hist2)\n",
    "plt.show()"
   ]
  },
  {
   "cell_type": "markdown",
   "metadata": {},
   "source": [
    "画出的直方图结果和halcon的equ_histo_image函数的效果一模一样，非常成功\n",
    "![avatar](/halconResult.jpg)"
   ]
  },
  {
   "cell_type": "code",
   "execution_count": 10,
   "metadata": {},
   "outputs": [
    {
     "data": {
      "text/plain": [
       "True"
      ]
     },
     "execution_count": 10,
     "metadata": {},
     "output_type": "execute_result"
    }
   ],
   "source": [
    "cv2.imwrite('./new.jpg', imageResult)#别忘了设置文件后缀哦\n",
    "cv2.imwrite('./old.jpg',image)"
   ]
  },
  {
   "cell_type": "code",
   "execution_count": 11,
   "metadata": {},
   "outputs": [],
   "source": [
    "hist1 = hist1.reshape(256)"
   ]
  },
  {
   "cell_type": "code",
   "execution_count": null,
   "metadata": {},
   "outputs": [],
   "source": []
  }
 ],
 "metadata": {
  "kernelspec": {
   "display_name": "Python 3",
   "language": "python",
   "name": "python3"
  },
  "language_info": {
   "codemirror_mode": {
    "name": "ipython",
    "version": 3
   },
   "file_extension": ".py",
   "mimetype": "text/x-python",
   "name": "python",
   "nbconvert_exporter": "python",
   "pygments_lexer": "ipython3",
   "version": "3.6.5"
  }
 },
 "nbformat": 4,
 "nbformat_minor": 2
}
